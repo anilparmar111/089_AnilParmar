{
  "nbformat": 4,
  "nbformat_minor": 0,
  "metadata": {
    "colab": {
      "name": "ex1.ipynb",
      "provenance": []
    },
    "kernelspec": {
      "name": "python3",
      "display_name": "Python 3",
      "language": "python"
    },
    "language_info": {
      "name": "python",
      "version": "3.6.13",
      "mimetype": "text/x-python",
      "codemirror_mode": {
        "name": "ipython",
        "version": 3
      },
      "pygments_lexer": "ipython3",
      "nbconvert_exporter": "python",
      "file_extension": ".py"
    }
  },
  "cells": [
    {
      "cell_type": "markdown",
      "metadata": {
        "id": "0eXVUpoKZwNr"
      },
      "source": [
        "#Task 1 :Try Linear Regression just using numpy (Without Tensorflow/Pytorch or other torch library)."
      ]
    },
    {
      "cell_type": "code",
      "metadata": {
        "id": "W6NK3ltgYHJ3",
        "trusted": true
      },
      "source": [
        "import numpy as np\n",
        "from sklearn.linear_model import LinearRegression"
      ],
      "execution_count": 2,
      "outputs": []
    },
    {
      "cell_type": "code",
      "metadata": {
        "colab": {
          "base_uri": "https://localhost:8080/"
        },
        "id": "lHVGJ7nNYHJ4",
        "trusted": true,
        "outputId": "d44a4e86-2434-4e39-adcb-e57c2fcb1cbc"
      },
      "source": [
        "inputs = np.array([[73, 67, 43],\n",
        "                    [91, 88, 64],\n",
        "                    [87, 134, 58],\n",
        "                    [102, 43, 37],\n",
        "                    [69, 96, 70],\n",
        "                    [73, 67, 43],\n",
        "                    [91, 88, 64],\n",
        "                    [87, 134, 58],\n",
        "                    [102, 43, 37],\n",
        "                    [69, 96, 70],\n",
        "                    [73, 67, 43], \n",
        "                    [91, 88, 64], \n",
        "                    [87, 134, 58], \n",
        "                    [102, 43, 37], \n",
        "                    [69, 96, 70]], dtype='float32')\n",
        "print(inputs.shape)"
      ],
      "execution_count": 3,
      "outputs": [
        {
          "output_type": "stream",
          "name": "stdout",
          "text": [
            "(15, 3)\n"
          ]
        }
      ]
    },
    {
      "cell_type": "code",
      "metadata": {
        "id": "3NunoIBCYHJ6",
        "trusted": true
      },
      "source": [
        "targets = np.array([[56, 70], [81, 101], [119, 133], [22, 37], [103, 119],\n",
        "[56, 70], [81, 101], [119, 133], [22, 37], [103, 119],\n",
        "[56, 70], [81, 101], [119, 133], [22, 37], [103, 119]], dtype='float32')"
      ],
      "execution_count": 4,
      "outputs": []
    },
    {
      "cell_type": "code",
      "metadata": {
        "id": "GGlX1RMbYHJ6",
        "trusted": true
      },
      "source": [
        "from sklearn.model_selection import train_test_split\n",
        "x_train,x_test,y_train,y_test = train_test_split(inputs,targets,test_size=0.3, random_state=89)"
      ],
      "execution_count": 5,
      "outputs": []
    },
    {
      "cell_type": "code",
      "metadata": {
        "colab": {
          "base_uri": "https://localhost:8080/"
        },
        "id": "_7ez_dU0YHJ7",
        "trusted": true,
        "outputId": "d083227d-6d30-48b4-d1e0-a88241eb33c5"
      },
      "source": [
        "reg = LinearRegression().fit(x_train,y_train)\n",
        "print(reg)"
      ],
      "execution_count": 6,
      "outputs": [
        {
          "output_type": "stream",
          "name": "stdout",
          "text": [
            "LinearRegression(copy_X=True, fit_intercept=True, n_jobs=None, normalize=False)\n"
          ]
        }
      ]
    },
    {
      "cell_type": "code",
      "metadata": {
        "colab": {
          "base_uri": "https://localhost:8080/"
        },
        "id": "qisKJXBxYHJ8",
        "trusted": true,
        "outputId": "ad59da59-00ac-46b6-9b40-f39aa170ba9e"
      },
      "source": [
        "print(reg.intercept_)\n",
        "print(reg.coef_)"
      ],
      "execution_count": 7,
      "outputs": [
        {
          "output_type": "stream",
          "name": "stdout",
          "text": [
            "[ 3.2368774 -2.5598907]\n",
            "[[-0.4185197   0.84458554  0.6632882 ]\n",
            " [-0.2829894   0.79422855  0.9274209 ]]\n"
          ]
        }
      ]
    },
    {
      "cell_type": "code",
      "metadata": {
        "colab": {
          "base_uri": "https://localhost:8080/"
        },
        "id": "-wIb51_WYHJ9",
        "trusted": true,
        "outputId": "279b5c77-2a1e-4654-e991-d8366f398212"
      },
      "source": [
        "y_pred = reg.predict(x_test)\n",
        "print(y_pred,\"\\n\")\n",
        "print(y_test)"
      ],
      "execution_count": 8,
      "outputs": [
        {
          "output_type": "stream",
          "name": "stdout",
          "text": [
            "[[118.47084 133.03708]\n",
            " [ 57.79356  69.87429]\n",
            " [ 57.79356  69.87429]\n",
            " [118.47084 133.03708]\n",
            " [101.86941 119.07925]] \n",
            "\n",
            "[[119. 133.]\n",
            " [ 56.  70.]\n",
            " [ 56.  70.]\n",
            " [119. 133.]\n",
            " [103. 119.]]\n"
          ]
        }
      ]
    },
    {
      "cell_type": "code",
      "metadata": {
        "colab": {
          "base_uri": "https://localhost:8080/"
        },
        "id": "yrVwSpngYHJ-",
        "trusted": true,
        "outputId": "397e1be4-b234-4753-ef18-b0fb59bda35a"
      },
      "source": [
        "from sklearn import metrics\n",
        "print('\\n Mean Squared Error:', metrics.mean_squared_error(y_test, y_pred))"
      ],
      "execution_count": 9,
      "outputs": [
        {
          "output_type": "stream",
          "name": "stdout",
          "text": [
            "\n",
            " Mean Squared Error: 0.8312609\n"
          ]
        }
      ]
    }
  ]
}