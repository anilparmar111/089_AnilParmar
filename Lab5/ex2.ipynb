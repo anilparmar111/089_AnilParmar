{
  "nbformat": 4,
  "nbformat_minor": 0,
  "metadata": {
    "kernelspec": {
      "display_name": "Python 3",
      "language": "python",
      "name": "python3"
    },
    "language_info": {
      "codemirror_mode": {
        "name": "ipython",
        "version": 3
      },
      "file_extension": ".py",
      "mimetype": "text/x-python",
      "name": "python",
      "nbconvert_exporter": "python",
      "pygments_lexer": "ipython3",
      "version": "3.8.3"
    },
    "colab": {
      "name": "ex2.ipynb",
      "provenance": []
    }
  },
  "cells": [
    {
      "cell_type": "markdown",
      "metadata": {
        "id": "J1ilwzgdZVx_"
      },
      "source": [
        "#Task2: Try Linear regression on same prediction data using Tensorflow"
      ]
    },
    {
      "cell_type": "code",
      "metadata": {
        "id": "LmJfRlyJZQrC"
      },
      "source": [
        "import numpy as np\n",
        "import tensorflow as tf"
      ],
      "execution_count": 1,
      "outputs": []
    },
    {
      "cell_type": "code",
      "metadata": {
        "id": "-5YncrZRZQrH"
      },
      "source": [
        "inputs = np.array([[73, 67, 43], [91, 88, 64], [87, 134, 58], [102, 43, 37], [69, 96, 70],[73, 67, 43], [91, 88, 64], \n",
        "                   [87, 134, 58], [102, 43, 37], [69, 96, 70], [73, 67, 43], [91, 88, 64], [87, 134, 58], [102, 43, 37], \n",
        "                   [69, 96, 70]], dtype='float64')\n",
        "\n",
        "targets = np.array([[56, 70], [81, 101], [119, 133], [22, 37], [103, 119],[56, 70], [81, 101], [119, 133], [22, 37], \n",
        "                    [103, 119],[56, 70], [81, 101], [119, 133], [22, 37], [103, 119]], dtype='float64')"
      ],
      "execution_count": 2,
      "outputs": []
    },
    {
      "cell_type": "code",
      "metadata": {
        "colab": {
          "base_uri": "https://localhost:8080/"
        },
        "id": "DVu7ljiDZQrI",
        "outputId": "2e10509a-1b6d-4bb2-f651-4100b5b1b70a"
      },
      "source": [
        "inputs = tf.Variable(inputs)\n",
        "targets = tf.Variable(targets)\n",
        "print(\"targets :\\n\",targets)"
      ],
      "execution_count": 3,
      "outputs": [
        {
          "output_type": "stream",
          "name": "stdout",
          "text": [
            "targets :\n",
            " <tf.Variable 'Variable:0' shape=(15, 2) dtype=float64, numpy=\n",
            "array([[ 56.,  70.],\n",
            "       [ 81., 101.],\n",
            "       [119., 133.],\n",
            "       [ 22.,  37.],\n",
            "       [103., 119.],\n",
            "       [ 56.,  70.],\n",
            "       [ 81., 101.],\n",
            "       [119., 133.],\n",
            "       [ 22.,  37.],\n",
            "       [103., 119.],\n",
            "       [ 56.,  70.],\n",
            "       [ 81., 101.],\n",
            "       [119., 133.],\n",
            "       [ 22.,  37.],\n",
            "       [103., 119.]])>\n"
          ]
        }
      ]
    },
    {
      "cell_type": "code",
      "metadata": {
        "colab": {
          "base_uri": "https://localhost:8080/"
        },
        "id": "5wlZ_7VMZQrK",
        "outputId": "9cd20a1f-114d-4af8-92e7-730e6f447995"
      },
      "source": [
        "v = np.random.rand(3,2)\n",
        "r = np.random.randn(2)\n",
        "v = tf.Variable(v)\n",
        "r = tf.Variable(r)\n",
        "\n",
        "print(v)\n",
        "print(\"\\n\",r)"
      ],
      "execution_count": 4,
      "outputs": [
        {
          "output_type": "stream",
          "name": "stdout",
          "text": [
            "<tf.Variable 'Variable:0' shape=(3, 2) dtype=float64, numpy=\n",
            "array([[0.61432635, 0.16747201],\n",
            "       [0.94110723, 0.23728022],\n",
            "       [0.00946157, 0.63049319]])>\n",
            "\n",
            " <tf.Variable 'Variable:0' shape=(2,) dtype=float64, numpy=array([-0.31265872,  0.42990318])>\n"
          ]
        }
      ]
    },
    {
      "cell_type": "code",
      "metadata": {
        "id": "E_oL9WFhZQrL"
      },
      "source": [
        "def model(s):\n",
        "    return s @ v + r"
      ],
      "execution_count": 5,
      "outputs": []
    },
    {
      "cell_type": "code",
      "metadata": {
        "colab": {
          "base_uri": "https://localhost:8080/"
        },
        "id": "KbI3OOQmZQrL",
        "outputId": "7d50799a-4708-4ddc-e3b5-3f5f9b20d90e"
      },
      "source": [
        "prediction = model(inputs)\n",
        "print(prediction)"
      ],
      "execution_count": 6,
      "outputs": [
        {
          "output_type": "stream",
          "name": "stdout",
          "text": [
            "tf.Tensor(\n",
            "[[107.99419676  55.6643423 ]\n",
            " [139.01401587  76.90208024]\n",
            " [179.79087372  83.36412318]\n",
            " [103.16631788  51.04334627]\n",
            " [133.08446348  78.89889684]\n",
            " [107.99419676  55.6643423 ]\n",
            " [139.01401587  76.90208024]\n",
            " [179.79087372  83.36412318]\n",
            " [103.16631788  51.04334627]\n",
            " [133.08446348  78.89889684]\n",
            " [107.99419676  55.6643423 ]\n",
            " [139.01401587  76.90208024]\n",
            " [179.79087372  83.36412318]\n",
            " [103.16631788  51.04334627]\n",
            " [133.08446348  78.89889684]], shape=(15, 2), dtype=float64)\n"
          ]
        }
      ]
    },
    {
      "cell_type": "code",
      "metadata": {
        "colab": {
          "base_uri": "https://localhost:8080/"
        },
        "id": "JmIALX3KZQrM",
        "outputId": "9b6735bf-c9fe-4241-f04e-c217e7feefe2"
      },
      "source": [
        "def mse(t1,t2):\n",
        "    return tf.reduce_mean(tf.square(t1 - t2))\n",
        "print(mse(prediction,targets))"
      ],
      "execution_count": 7,
      "outputs": [
        {
          "output_type": "stream",
          "name": "stdout",
          "text": [
            "tf.Tensor(2231.285409876558, shape=(), dtype=float64)\n"
          ]
        }
      ]
    },
    {
      "cell_type": "code",
      "metadata": {
        "colab": {
          "base_uri": "https://localhost:8080/"
        },
        "id": "7qbjDtJ1ZQrN",
        "outputId": "9752e799-4f7c-403a-bfdc-fb435b512b25"
      },
      "source": [
        "epochs = 40\n",
        "for epoch_count in range(epochs):\n",
        "    \n",
        "    with tf.GradientTape(persistent=True) as t:\n",
        "        current_loss = mse(targets, model(inputs))\n",
        "\n",
        "    v1 = t.gradient(current_loss,v)\n",
        "    r1 = t.gradient(current_loss,r)\n",
        "\n",
        "    v.assign_sub(1e-4 * v1)\n",
        "    r.assign_sub(1e-4 * r1)\n",
        "        \n",
        "    print(f\" \\n Epoch count: {epoch_count} \\n Loss value: {current_loss.numpy()}\")\n"
      ],
      "execution_count": 9,
      "outputs": [
        {
          "output_type": "stream",
          "name": "stdout",
          "text": [
            " \n",
            " Epoch count: 0 \n",
            " Loss value: 19.662090513273593\n",
            " \n",
            " Epoch count: 1 \n",
            " Loss value: 19.10996159001069\n",
            " \n",
            " Epoch count: 2 \n",
            " Loss value: 18.592185915169313\n",
            " \n",
            " Epoch count: 3 \n",
            " Loss value: 18.105169268815768\n",
            " \n",
            " Epoch count: 4 \n",
            " Loss value: 17.645746963861217\n",
            " \n",
            " Epoch count: 5 \n",
            " Loss value: 17.211131306947088\n",
            " \n",
            " Epoch count: 6 \n",
            " Loss value: 16.798865524275147\n",
            " \n",
            " Epoch count: 7 \n",
            " Loss value: 16.406783350365565\n",
            " \n",
            " Epoch count: 8 \n",
            " Loss value: 16.03297357949971\n",
            " \n",
            " Epoch count: 9 \n",
            " Loss value: 15.67574896762268\n",
            " \n",
            " Epoch count: 10 \n",
            " Loss value: 15.333618948905983\n",
            " \n",
            " Epoch count: 11 \n",
            " Loss value: 15.005265697726523\n",
            " \n",
            " Epoch count: 12 \n",
            " Loss value: 14.689523124893345\n",
            " \n",
            " Epoch count: 13 \n",
            " Loss value: 14.385358447717948\n",
            " \n",
            " Epoch count: 14 \n",
            " Loss value: 14.09185601793067\n",
            " \n",
            " Epoch count: 15 \n",
            " Loss value: 13.808203130337393\n",
            " \n",
            " Epoch count: 16 \n",
            " Loss value: 13.533677569177929\n",
            " \n",
            " Epoch count: 17 \n",
            " Loss value: 13.267636679009673\n",
            " \n",
            " Epoch count: 18 \n",
            " Loss value: 13.009507773118814\n",
            " \n",
            " Epoch count: 19 \n",
            " Loss value: 12.758779715418013\n",
            " \n",
            " Epoch count: 20 \n",
            " Loss value: 12.514995531922795\n",
            " \n",
            " Epoch count: 21 \n",
            " Loss value: 12.277745925557438\n",
            " \n",
            " Epoch count: 22 \n",
            " Loss value: 12.046663583531808\n",
            " \n",
            " Epoch count: 23 \n",
            " Loss value: 11.821418180118068\n",
            " \n",
            " Epoch count: 24 \n",
            " Loss value: 11.60171198957669\n",
            " \n",
            " Epoch count: 25 \n",
            " Loss value: 11.387276034439408\n",
            " \n",
            " Epoch count: 26 \n",
            " Loss value: 11.177866703529427\n",
            " \n",
            " Epoch count: 27 \n",
            " Loss value: 10.973262782148993\n",
            " \n",
            " Epoch count: 28 \n",
            " Loss value: 10.773262843925773\n",
            " \n",
            " Epoch count: 29 \n",
            " Loss value: 10.577682960002875\n",
            " \n",
            " Epoch count: 30 \n",
            " Loss value: 10.386354686694578\n",
            " \n",
            " Epoch count: 31 \n",
            " Loss value: 10.199123297495804\n",
            " \n",
            " Epoch count: 32 \n",
            " Loss value: 10.015846229519013\n",
            " \n",
            " Epoch count: 33 \n",
            " Loss value: 9.83639171810001\n",
            " \n",
            " Epoch count: 34 \n",
            " Loss value: 9.660637596536573\n",
            " \n",
            " Epoch count: 35 \n",
            " Loss value: 9.488470240746961\n",
            " \n",
            " Epoch count: 36 \n",
            " Loss value: 9.319783641114672\n",
            " \n",
            " Epoch count: 37 \n",
            " Loss value: 9.154478585960854\n",
            " \n",
            " Epoch count: 38 \n",
            " Loss value: 8.99246194299219\n",
            " \n",
            " Epoch count: 39 \n",
            " Loss value: 8.833646026747036\n"
          ]
        }
      ]
    }
  ]
}